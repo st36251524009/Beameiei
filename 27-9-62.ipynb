{
 "cells": [
  {
   "cell_type": "code",
   "execution_count": 1,
   "metadata": {},
   "outputs": [
    {
     "name": "stdout",
     "output_type": "stream",
     "text": [
      "Enter number: 4\n",
      "100\n"
     ]
    }
   ],
   "source": [
    "#เขียนโปรแกรมรับจำนวนเต็มบวก 1 จำนวน จากนั้นให้แสดงผลลัพธ์เป็นจำนวนเต็มดังกล่าวที่เขียนอยู่ในรูปของตัวเลขฐาน สอง\n",
    "x = int(input(\"Enter number: \"))\n",
    "x0 = x\n",
    "sum = ''\n",
    "d = 0\n",
    "z = 0\n",
    "while True:\n",
    "   y = int(x%2)\n",
    "   x = int(x/2)\n",
    "   sum = str(y)+sum\n",
    "   if y==1:\n",
    "      z = z+2**d\n",
    "   if z==x0:\n",
    "      break\n",
    "   d = d+1\n",
    "z = int(sum)\n",
    "print(z)"
   ]
  },
  {
   "cell_type": "code",
   "execution_count": null,
   "metadata": {},
   "outputs": [],
   "source": [
    "#เขียนโปรแกรมรับจำนวนเต็ม จากนั้นพิมพ์จำนวนเต็มดังกล่าวออกมาทีละหลัก หลักละ 1 บรรทัด โดยพิมพ์จากหลักหน่วยก่อน\n",
    "x = input(\"Enter number: \")\n",
    "d = len(x)-1\n",
    "while d != -1:\n",
    "   print(x[d])\n",
    "   d = d-1\n"
   ]
  },
  {
   "cell_type": "code",
   "execution_count": null,
   "metadata": {},
   "outputs": [],
   "source": [
    "ให้เขียนโปรแกรมรับจำนวนเต็มระหว่าง 0 ถึง 99 จากนั้นแสดงแผนภาพฮิสโตแกรมที่แสดงความถี่ของข้อมูล อย่างไรก็ตาม ในการแสดงให้แสดงเป็นกลุ่ม กลุ่มแรกมีค่าตั้งแต่ 0 - 9 กลุ่มที่สองมีค่าตั้งแต่ 10 - 19 จนถึงกลุ่มสุดท้ายเป็น 90 - 99 ตามลำดับ ในการแสดงไม่ต้องพิมพ์หมายเลขกลุ่ม \n",
    "x = int(input())\n",
    "n =[[],[],[],[],[],[],[],[],[],[]]\n",
    "while x >=0 :\n",
    "    if 0<=x<=9:\n",
    "        n[0].append('*')\n",
    "    elif 10<=x<=19:\n",
    "        n[1].append('*')\n",
    "    elif 20<=x<=29:\n",
    "        n[2].append('*')\n",
    "    elif 30<=x<=39:\n",
    "        n[3].append('*')\n",
    "    elif 40<=x<=49:\n",
    "        n[4].append('*')\n",
    "    elif 50<=x<=59:\n",
    "        n[5].append('*')\n",
    "    elif 60<=x<=69:\n",
    "        n[6].append('*')\n",
    "    elif 70<=x<=79:\n",
    "        n[7].append('*')\n",
    "    elif 80<=x<=89:\n",
    "        n[8].append('*')\n",
    "    elif 90<=x<=99:\n",
    "        n[9].append('*')\n",
    "    x = int(input())\n",
    "for i in range(10):\n",
    "    sum = ''\n",
    "    for y in n[i]:\n",
    "        sum = sum+y\n",
    "    print(\":\",sum)"
   ]
  },
  {
   "cell_type": "code",
   "execution_count": null,
   "metadata": {},
   "outputs": [],
   "source": [
    "# รับค่าตัวเลขเข้ามาแล้วเอามาแทนตัวแปร x ให้ตัวแปร y = 100เช็คว่า น้อยกว่ามากกว่าหรือเท่ากับ 100\n",
    "y = 100\n",
    "x = int(input(\"input: \"))\n",
    "if x == y:\n",
    "  print (\"=\" , y)\n",
    "else:\n",
    "  print (\"No, It isn't num.\")\n"
   ]
  },
  {
   "cell_type": "code",
   "execution_count": null,
   "metadata": {},
   "outputs": [],
   "source": [
    "#หอยขมตัวหนึ่ง ตกลงไปในบ่อที่มีความสูง H เมตร มันพยายามจะไต่ให้ถึงปากบ่อ ในเวลากลางวันหอยขมไต่ขึ้นไปได้ U เมตร เวลากลางคืนมันนอนหลับจึงไม่ได้ไต่แต่กลับไถลลงมาเป็นระยะทาง D เมตร ให้เขียนโปรแกรมเพื่อหาว่าหอยทากจะใช้เวลากี่วันในการไต่ออกจากบ่อ (กำหนดให้หอยทากเริ่มไต่ในเวลากลางวัน)\n",
    "\n",
    "H = int(input(\"H: \"))\n",
    "U = int(input(\"U: \"))\n",
    "D = int(input(\"D: \"))\n",
    "k = 0\n",
    "day = 1\n",
    "while True:\n",
    "   k = k+U\n",
    "   if k>=H:\n",
    "        break\n",
    "   k = k-D\n",
    "   day = day+1\n",
    "print(day,\"day(s).\")"
   ]
  },
  {
   "cell_type": "code",
   "execution_count": null,
   "metadata": {},
   "outputs": [],
   "source": [
    "#ร้านขายหนังสือร้านหนึ่ง พยายามเพิ่มยอดขายโดยการเสนอโปรโมชั่นพิเศษ ถ้าคุณซื้อหนังสือมากกว่า 3 เล่ม ที่มีมูลค่ารวมเกิน 500 บาท คุณจะได้ส่วนลด 10% \n",
    "count = int(input(\"How many books: \"))\n",
    "money = int(input(\"How much: \"))\n",
    "if count > 3 and money > 500:\n",
    "    s = money-money*0.1\n",
    "else:\n",
    "    s = money\n",
    "print(\"You have to pay\",int(s),\"bath.\")\n"
   ]
  },
  {
   "cell_type": "code",
   "execution_count": null,
   "metadata": {},
   "outputs": [],
   "source": [
    "#เขียนฟังก์ชัน printdouble(s) ที่รับรายการ s ของจำนวนเต็ม จากนั้นให้พิจารณาข้อมูลในรายการทีละตัวตามลำดับ แล้วพิมพ์ค่าข้อมูลแต่ละตัวนั้นคูณด้วย 2\n",
    "n = int(input(\"Enter N: \"))\n",
    "k = int(input(\"Enter K: \"))\n",
    "for x in range(1,n+1):\n",
    "   if  x%k == 0:\n",
    "      print(x)"
   ]
  },
  {
   "cell_type": "code",
   "execution_count": null,
   "metadata": {},
   "outputs": [],
   "source": [
    "#ให้เขียนโปรแกรมรับจำนวนเต็มระหว่าง 0 ถึง 9 จากนั้นแสดงแผนภาพฮิสโตแกรมที่แสดงความถี่ของข้อมูลแต่ละตัวที่ได้รับมา \n",
    "x = int(input())\n",
    "n =[[],[],[],[],[],[],[],[],[],[]]\n",
    "while x >=0 :\n",
    "    if x == 0:\n",
    "        n[0].append('*')\n",
    "    elif x == 1:\n",
    "        n[1].append('*')\n",
    "    elif x == 2:\n",
    "        n[2].append('*')\n",
    "    elif x == 3:\n",
    "        n[3].append('*')\n",
    "    elif x == 4:\n",
    "        n[4].append('*')\n",
    "    elif x == 5:\n",
    "        n[5].append('*')\n",
    "    elif x == 6:\n",
    "        n[6].append('*')\n",
    "    elif x == 7:\n",
    "        n[7].append('*')\n",
    "    elif x == 8:\n",
    "        n[8].append('*')\n",
    "    elif x == 9:\n",
    "        n[9].append('*')\n",
    "    x = int(input())\n",
    "for i in range(10):\n",
    "    sum = ''\n",
    "    for y in n[i]:\n",
    "        sum = sum+y\n",
    "    print(i,\":\",sum)"
   ]
  },
  {
   "cell_type": "code",
   "execution_count": 2,
   "metadata": {},
   "outputs": [
    {
     "name": "stdout",
     "output_type": "stream",
     "text": [
      "Enter number: 4\n",
      "4\n"
     ]
    }
   ],
   "source": [
    "#เขียนโปรแกรมรับจำนวนเต็ม จากนั้นพิมพ์จำนวนเต็มดังกล่าวออกมาทีละหลัก หลักละ 1 บรรทัด โดยพิมพ์จากหลักหน่วยก่อน\n",
    "x = input(\"Enter number: \")\n",
    "d = len(x)-1\n",
    "while d != -1:\n",
    "   print(x[d])\n",
    "   d = d-1"
   ]
  },
  {
   "cell_type": "code",
   "execution_count": 3,
   "metadata": {},
   "outputs": [
    {
     "name": "stdout",
     "output_type": "stream",
     "text": [
      "Enter binary number: 5\n",
      "0\n"
     ]
    }
   ],
   "source": [
    "#ให้เขียนรับตัวเลขฐาน 2 จากผู้ใช้ จากนั้นแปลงให้เป็นเลขฐานสิบ\n",
    "x = input(\"Enter binary number: \")\n",
    "d = len(x)-1\n",
    "sum = 0\n",
    "for y in x:\n",
    "   if y == '1':\n",
    "      sum = sum+2**d\n",
    "   d = d-1\n",
    "print(sum)"
   ]
  },
  {
   "cell_type": "code",
   "execution_count": null,
   "metadata": {},
   "outputs": [],
   "source": []
  }
 ],
 "metadata": {
  "kernelspec": {
   "display_name": "Python 3",
   "language": "python",
   "name": "python3"
  },
  "language_info": {
   "codemirror_mode": {
    "name": "ipython",
    "version": 3
   },
   "file_extension": ".py",
   "mimetype": "text/x-python",
   "name": "python",
   "nbconvert_exporter": "python",
   "pygments_lexer": "ipython3",
   "version": "3.6.7"
  }
 },
 "nbformat": 4,
 "nbformat_minor": 2
}
